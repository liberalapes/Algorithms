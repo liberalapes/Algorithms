{
 "cells": [
  {
   "cell_type": "code",
   "execution_count": null,
   "metadata": {
    "collapsed": true
   },
   "outputs": [],
   "source": [
    "# -*- coding : utf-8 -*-"
   ]
  },
  {
   "cell_type": "markdown",
   "source": [
    "# 알고리즘 Algorithms\n",
    "---\n",
    "## 제2장 분할정복 알고리즘\n",
    "### 2.1 분할정복 방법의 원리\n",
    "### 2.2 이진 탐색\n",
    "### 2.3 합병 정렬\n",
    "### 2.4 퀵 정렬\n",
    "###  2.5 선택 문제\n",
    "----"
   ],
   "metadata": {
    "collapsed": false
   }
  },
  {
   "cell_type": "markdown",
   "source": [
    "### 2.4 퀵 정렬\n",
    "#### 2.4.1 개념과 정의 \n",
    "- 퀵 정렬 : 피벗(pivot)이라 불리는 특정 원소를 기준으로 주어진 배열을 두 부분배열로 분할, 각 부분배열에 대해서 퀵 정렬을 순환 적용\n",
    "    - 특정 원소\n",
    "    - pivot : 두 부분배열로 분할 할 때, 기준이 되는 특정 원소\n",
    "        - 보통 주어진 배열의 첫 번째 원소로 지정\n",
    "    - puvit이 제자리를 잡도록 하여 정렬하는 방법\n"
   ],
   "metadata": {
    "collapsed": false
   }
  },
  {
   "cell_type": "markdown",
   "source": [
    "#### 2.4.2 알고리즘\n",
    "- [알고리즘 2.5] 퀵 정렬"
   ],
   "metadata": {
    "collapsed": false,
    "pycharm": {
     "name": "#%% md\n"
    }
   }
  },
  {
   "cell_type": "markdown",
   "source": [
    "- [예제 5] 주어진 배열에 대해서 퀵 정렬의 정렬 과정을 보이시오."
   ],
   "metadata": {
    "collapsed": false
   }
  },
  {
   "cell_type": "markdown",
   "source": [
    "- [알고리즘 2.6] 분할 함수 :Partition()\n"
   ],
   "metadata": {
    "collapsed": false
   }
  },
  {
   "cell_type": "markdown",
   "source": [
    "- [예제 6] 주어진 배열에 대해서 [알고리즘 2.6]의 partition() 함수의 적용 과정을 보이시오.\n"
   ],
   "metadata": {
    "collapsed": false
   }
  },
  {
   "cell_type": "markdown",
   "source": [
    "#### 2.4.3 성능 분석\n",
    "- 분할 함수 partition \n",
    "    - 선형\n",
    "    \n",
    "- 퀵 정렬 QuickSort() 수행 시간\n",
    "    - 한 번의 분할 Partition() + 두 번의 QuickSort() 순환 호출\n",
    "    - T(n) = T() + T() + setha(n) (n>1)\n",
    "    - T(1) = setha(1)\n",
    "- 최악의 경우\n",
    "- 최선의 경우 "
   ],
   "metadata": {
    "collapsed": false
   }
  },
  {
   "cell_type": "markdown",
   "source": [
    "#### (1) 최악의 경우 시간 복잡도\n",
    "- 극심한 분귝형적 분할 \n",
    "    - 피벗만 제자리를 잡고, 나머지 모든 원소가 하나의 부분배열이 되는 경우\n",
    "    - 피벗이 항상 부분배열의 최솟값 또는 최댓값이 되는 경우\n",
    "    - 입력 데이터가 정렬된 경우 AND 피벗을 배열의 처음 원소로 지정한 경우\n"
   ],
   "metadata": {
    "collapsed": false
   }
  },
  {
   "cell_type": "markdown",
   "source": [
    "#### (2) 최선의 경우 시간 복잡도\n",
    "- 가장 균형적인 분할\n",
    "    - 피벗을 중심으로 항상 동일한 크기의 두 부분배열로 분할 되는 경우\n",
    "    - 피버싱 항상 부분배열의 중간값이 되는 경우 \n",
    "    "
   ],
   "metadata": {
    "collapsed": false
   }
  },
  {
   "cell_type": "markdown",
   "source": [
    "#### (3) 평균적인 경우 시간 복잡도\n",
    "- 부분배열의 모든 분할 비율에 따른 수행 시간의 평균\n",
    "- 피벗은 동일한 확률로서 분할 후 배열의 어느 곳에나 위치 가능\n"
   ],
   "metadata": {
    "collapsed": false,
    "pycharm": {
     "name": "#%% md\n"
    }
   }
  },
  {
   "cell_type": "markdown",
   "source": [
    "2.4.4 특징\n",
    "- 최선/평균의 경우 : O(nlogn) \n",
    "- 최악의 경우 : o(n^2)\n",
    "    - 피벗 선택의 임의성만 보장되면 평균적인 성능을 보일 가능서잉 매우 높음\n",
    "\n",
    "    "
   ],
   "metadata": {
    "collapsed": false
   }
  }
 ],
 "metadata": {
  "kernelspec": {
   "display_name": "Python 3",
   "language": "python",
   "name": "python3"
  },
  "language_info": {
   "codemirror_mode": {
    "name": "ipython",
    "version": 2
   },
   "file_extension": ".py",
   "mimetype": "text/x-python",
   "name": "python",
   "nbconvert_exporter": "python",
   "pygments_lexer": "ipython2",
   "version": "2.7.6"
  },
  "pycharm": {
   "stem_cell": {
    "cell_type": "raw",
    "source": [],
    "metadata": {
     "collapsed": false
    }
   }
  }
 },
 "nbformat": 4,
 "nbformat_minor": 0
}