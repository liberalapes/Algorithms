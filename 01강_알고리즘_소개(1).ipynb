{
 "cells": [
  {
   "cell_type": "code",
   "execution_count": null,
   "outputs": [],
   "source": [
    "#-*- coding : utf-8 -*-"
   ],
   "metadata": {
    "collapsed": false,
    "pycharm": {
     "name": "#%%\n"
    }
   }
  },
  {
   "cell_type": "markdown",
   "source": [
    "# 알고리즘 Algorithms\n",
    "---\n",
    "## 01강 알고리즘 소개(1)\n",
    "### 1.1 알고리즘의 개념\n",
    "### 1.2 기본 자료구조\n",
    "### 1.3 알고리즘의 설계\n",
    "### 1.4 알고리즘의 분석\n",
    "### 1.5 점근성능\n",
    "### 1.6 순환 알고리즘의 성능\n",
    "---"
   ],
   "metadata": {
    "collapsed": false
   }
  },
  {
   "cell_type": "markdown",
   "source": [
    "### 1.1 알고리즘의 개념\n",
    "- 알고리즘(algorithm) : 문제 해결을 위한 레시피(조리법)\n",
    "- 예제 1\n",
    "- 예제 2\n",
    "- 예제 3\n",
    "\n",
    "1.1.1 알고리즘의 정의\n",
    "- 알고리즘의 조건\n",
    "    - 입출력(input & output) : 0개 이상의 외부 입력과 하나 이상의 출력이 있음\n",
    "    - 명확성(definiteness) : 각 명령은 모호하지 않고 단순 명확함\n",
    "    - 유한성(finiteness) : 한정된 수의 단계를 거친 후에는 반드시 종료\n",
    "    - 유효성(effectiveness) : 모든 명령은 컴퓨터에서 수행 가능 \n",
    "    \n",
    "- 알고리즘 : 주어진 문제에 대한 결과를 생성하기 위해 모호하지 않고 간단하며 컴퓨터가 수행 가능한 유한 개의 일련의 명령들을 순서적으로 구성한 것\n",
    "    - 주어진 문제를 풀기 위한 명령어들의 단계적 나열 \n",
    "    - 실용적 관점 : 효율적! \n",
    "        - 이론적으로는 알고리즘이 존재하지만, 효율적으로 풀 수 없는 문제가 있음\n",
    "\n",
    "1.1.2 알고리즘의 생성\n",
    "- 알고리즘의 생성 단계\n",
    "    - 설계\n",
    "    - 표현/기술\n",
    "    - 정확성 검증\n",
    "    - 효율성 분석\n",
    "    \n",
    "- 알고리즘의 표현과 기술\n",
    "    - 일상적 언어\n",
    "    - 순서도(flow chart)\n",
    "    - 의사코드(pesudo code)\n",
    "    "
   ],
   "metadata": {
    "collapsed": false,
    "pycharm": {
     "name": "#%% md\n"
    }
   }
  },
  {
   "cell_type": "markdown",
   "source": [
    "### 1.2 기본 자료구조\n",
    "- 자료구조(data strucure) : 컴퓨터 기억고간 내 자료를 표현하고 조직화하는 방법\n",
    "- 효율적인 자료처리 기준  \n",
    "    - 사용하는 데이터 양과 연산\n",
    "    - 필요한 기억장치의 양\n",
    "    - 원하는 작업에 대한 처리 시간\n",
    "    - 데이터의 성격\n",
    "- 자료구조와 알고리즘의 관계\n",
    "    - \n",
    "- 기존적인 자료구조\n",
    "    - 선형 자료구조\n",
    "        - 배열\n",
    "        - 연결 리스트\n",
    "        - 스택\n",
    "        - 큐\n",
    "    - 비선형 자료 구조\n",
    "        - 트리\n",
    "        - 그래프\n",
    "\n",
    "#### 1.2.1 배열과 연결 리스트\n",
    "- 배열(array) \n",
    "    - 같은 자료형을 갖는 여러 원소(데이터)를 하나의 변수이름으로모아 놓은 데이터의 집합\n",
    "    - <인덱스, 원소값> 쌍의 집합으로, 하나의 인덱스가 주어지면 이와 연관된 원소값이 결정되는 대응 관계를 가짐\n",
    "    - 배열의 특징\n",
    "        - 장점 \n",
    "            - 원소의 논지적 순서와 저장된 물리적 순서가 같음\n",
    "            - 표현이 간단\n",
    "            - 순서에 따른 순차적 원소 접근이 아닌 인덱스를 통한 임의 접근 가능\n",
    "        - 단점\n",
    "            - 순차적 저장으로 데이터의 삽입과 삭제가 발생하는 경우, 시간적 오버헤드가 발생 \n",
    "            - 이동 대상이 되는 원소가 많은 경우, 큰 부담이 발생\n",
    "            - 배열의 크기가 대부분 정적으로 결정, 삽입과 삭제가 동적으로 발생하는 상황에서 배열 크기를 미리 결정하기 어려움 : 오버플로우 또는 저장공간의 낭비 발생\n",
    "- 연결 리스트\n",
    "    - 배열의 문제점을 보완한 형태의 자료구조 \n",
    " \n",
    " \n",
    "#### 1.2.2 스택과 큐\n",
    "#### 1.2.3 트리\n",
    "#### 1.2.4 그래프\n",
    "\n",
    "### 1.3 알고리즘의 설계\n",
    "\n",
    "### 1.4 알고리즘의 분석\n",
    "\n",
    "#### 1.4.1 정확성 분석\n",
    "#### 1.4.2 효율성 분석\n",
    "예제 4"
   ],
   "metadata": {
    "collapsed": false
   }
  },
  {
   "cell_type": "markdown",
   "source": [
    "### 1.5 점근성능\n",
    "1.5.1 점근성능의 개념\n",
    "1.5.2 저근성능의 표기법\n",
    "1.5.3 효율적인 알고리즘의 중요성"
   ],
   "metadata": {
    "collapsed": false
   }
  },
  {
   "cell_type": "markdown",
   "source": [
    "### 1.6 순환 알고리즘의 성능"
   ],
   "metadata": {
    "collapsed": false
   }
  },
  {
   "cell_type": "markdown",
   "source": [
    "### 요약"
   ],
   "metadata": {
    "collapsed": false
   }
  }
 ],
 "metadata": {
  "kernelspec": {
   "display_name": "Python 3",
   "language": "python",
   "name": "python3"
  },
  "language_info": {
   "codemirror_mode": {
    "name": "ipython",
    "version": 2
   },
   "file_extension": ".py",
   "mimetype": "text/x-python",
   "name": "python",
   "nbconvert_exporter": "python",
   "pygments_lexer": "ipython2",
   "version": "2.7.6"
  },
  "pycharm": {
   "stem_cell": {
    "cell_type": "raw",
    "source": [],
    "metadata": {
     "collapsed": false
    }
   }
  }
 },
 "nbformat": 4,
 "nbformat_minor": 0
}