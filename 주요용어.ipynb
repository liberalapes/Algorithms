{
 "cells": [
  {
   "cell_type": "code",
   "execution_count": null,
   "metadata": {
    "collapsed": true,
    "pycharm": {
     "name": "#%% \n"
    }
   },
   "outputs": [],
   "source": [
    "#-*- coding : utf-8 -*-"
   ]
  },
  {
   "cell_type": "markdown",
   "source": [
    "# 알고리즘\n",
    "---\n",
    "## 주요 용어\n",
    "---"
   ],
   "metadata": {
    "collapsed": false,
    "pycharm": {
     "name": "#%% md\n"
    }
   }
  },
  {
   "cell_type": "markdown",
   "source": [
    "### 1 강 알고리즘 소개(1)\n",
    "- 알고리즘\n",
    "- 배열\n",
    "- 연결 리스트\n",
    "- 스택\n",
    "- 큐\n",
    "- 트리\n",
    "- 그리프\n",
    "- 공간 복잡도\n",
    "- 시간 복잡도\n",
    "- 점근성능\n",
    "- O 표기(빅-오)\n",
    "- Ω 표기(오메가)\n",
    "- Θ 표기(쎼타)\n",
    "- 점화식"
   ],
   "metadata": {
    "collapsed": false
   }
  },
  {
   "cell_type": "markdown",
   "source": [],
   "metadata": {
    "collapsed": false
   }
  }
 ],
 "metadata": {
  "kernelspec": {
   "display_name": "Python 3",
   "language": "python",
   "name": "python3"
  },
  "language_info": {
   "codemirror_mode": {
    "name": "ipython",
    "version": 2
   },
   "file_extension": ".py",
   "mimetype": "text/x-python",
   "name": "python",
   "nbconvert_exporter": "python",
   "pygments_lexer": "ipython2",
   "version": "2.7.6"
  },
  "pycharm": {
   "stem_cell": {
    "cell_type": "raw",
    "source": [],
    "metadata": {
     "collapsed": false
    }
   }
  }
 },
 "nbformat": 4,
 "nbformat_minor": 0
}