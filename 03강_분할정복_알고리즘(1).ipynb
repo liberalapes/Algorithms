{
 "cells": [
  {
   "cell_type": "code",
   "execution_count": null,
   "metadata": {
    "collapsed": true
   },
   "outputs": [],
   "source": [
    "# -*- coding : utf-8 -*-"
   ]
  },
  {
   "cell_type": "markdown",
   "source": [
    "# 알고리즘 Algorithms\n",
    "---\n",
    "## 제2장 분할정복 알고리즘\n",
    "### 2.1 분할정복 방법의 원리\n",
    "### 2.2 이진 탐색\n",
    "### 2.3 합병 정렬\n",
    "### 2.4 퀵 정렬\n",
    "###  2.5 선택 문제\n",
    "---"
   ],
   "metadata": {
    "collapsed": false,
    "pycharm": {
     "name": "#%% md\n"
    }
   }
  },
  {
   "cell_type": "markdown",
   "source": [
    "### 2.1 분할정복 방법의 원리\n",
    "- 분할정복(divide-and-conquer) 방법\n",
    "    - 순환적으로 문제를 푸는 하향식 접근 방법 (분할정복의 3단계)\n",
    "        - 분할(divide) : 주어진 문제의 입력을 더 이상 나눌 수 없을 때가지 두 개 이상의 작은 문제들로 순환적으로 분할\n",
    "        - 정복(conquer) : 분할된 작은 문제들을 각각 해결\n",
    "        - 결합(combine, 합병) : 이들의 해를 결합하여 원래의 문제의 해를 구하는 방식 (때론 11\n",
    "- 분할정복 방법을 적용한 알고리즘에 의한 문제의 개수와 크기\n",
    "    - 이진 탐색 : 크기가 n인 문제를 크기가 n/2인 2개의 작은 문제로 분할(그중 하나의 작은 문제는 처리 대상에서 제외)\n",
    "    - 합병 정렬 : 크기가 n인 문제를 크기가 n/2인 두 개의 작은 문제로 분할\n",
    "    - 퀵 정렬 : 크기가 n인 문제를 크기는 감소하지만 일정하지 않은 크기의 두 개의 작은 문제로 분할\n",
    "    - 선택 문제 : 크기가 n인 문제를 크기는 감소하지만 일정하지 않은 크기의 작은 문제로 분할(그중 하나의 작은 문제는 처리 대상에서 제외)  "
   ],
   "metadata": {
    "collapsed": false,
    "pycharm": {
     "name": "#%% md\n"
    }
   }
  },
  {
   "cell_type": "markdown",
   "source": [
    "<table>\n",
    "    <tr>\n",
    "        <th>방법</th>\n",
    "        <th>문제</th>\n",
    "        <th>분할 개수</th>\n",
    "        <th>분할 크기</th>\n",
    "    </tr>\n",
    "        <td>이진 탐색</td>\n",
    "        <td rowspan=\"4\" >크기가 n</td>\n",
    "        <td rowspan=\"2\" >n/2(크기가 같음)</td>\n",
    "        <td>둘 중 하나만 처리(외는 처리대상에서 제외)</td>\n",
    "    <tr>\n",
    "        <td>합병 정렬</td>\n",
    "        <td>둘 다 처리</td>\n",
    "    </tr>\n",
    "    <tr>\n",
    "        <td>퀵 정렬</td>\n",
    "        <td rowspan=\"2\">일정하지 않는 크기로 분할 </td>\n",
    "        <td>둘 다 처리</td>\n",
    "    </tr>\n",
    "    <tr>\n",
    "        <td>선택 문제</td>\n",
    "        <td>둘 중 하나만 처리(외는 처리대상에서 제외)</td>\n",
    "    </tr>\n",
    "</table>    "
   ],
   "metadata": {
    "collapsed": false,
    "pycharm": {
     "name": "#%% md\n"
    }
   }
  },
  {
   "cell_type": "markdown",
   "source": [
    "### 2.2 이진 탐색\n",
    "#### 2.2.1 개념과 원리\n",
    "- 탐색 : 배열 형태로 주어진 데이터에서 원하는 값을 가진 데이터를 찾는 문제\n",
    "- 이진 탐색(binary search) \n",
    "    - 데이터가 정렬된 상태로 주어진 경우에 효과적\n"
   ],
   "metadata": {
    "collapsed": false
   }
  },
  {
   "cell_type": "markdown",
   "source": [
    "#### 2.2.2 알고리즘\n",
    "- [알고리즘 2.1] 순환형태로 표현된 이진 탐색"
   ],
   "metadata": {
    "collapsed": false
   }
  },
  {
   "cell_type": "code",
   "execution_count": null,
   "outputs": [],
   "source": [
    "# translate 필요"
   ],
   "metadata": {
    "collapsed": false,
    "pycharm": {
     "name": "#%%\n"
    }
   }
  },
  {
   "cell_type": "markdown",
   "source": [
    "- [알고리즘 2.2] 반복 형태의 알고리즘"
   ],
   "metadata": {
    "collapsed": false
   }
  },
  {
   "cell_type": "code",
   "execution_count": null,
   "outputs": [],
   "source": [
    "# translate 필요\n"
   ],
   "metadata": {
    "collapsed": false,
    "pycharm": {
     "name": "#%%\n"
    }
   }
  },
  {
   "cell_type": "markdown",
   "source": [
    "- [예제1] 오름차순으로 정렬된 배열에서 키 x=20의 이진 탐색 과정을 순환 알고리즘을 사용해서 설명하시오"
   ],
   "metadata": {
    "collapsed": false
   }
  },
  {
   "cell_type": "markdown",
   "source": [
    "- [예제2] 배열의 크기가 n 일때 이진 탐색에서 분할은 최대 몇 번 수행되는지 계산하시오\n",
    "\n",
    "n, n/2, n/2^2, .. n/2^k\n",
    "\n",
    "n/2^k = 1\n",
    "\n",
    "k= log n\n",
    "   \n",
    "최대 비교 횟수 = 최대 분할 횟수 + 1"
   ],
   "metadata": {
    "collapsed": false
   }
  },
  {
   "cell_type": "markdown",
   "source": [
    "#### 2.2.3 성능 분석\n",
    "- T(n) = 입력 크기 n에 대한 탐색 과정에서의 모든 비교 횟수의 합\n",
    "= 맨 바깥 수준에서의 비교 횟수 + 순환 호출에서의 비교 횟수 \n",
    "\n",
    "- T(n) = T(n/2) + O(1) (n>1), T(1) = 1\n",
    "- T(n) = logn"
   ],
   "metadata": {
    "collapsed": false
   }
  },
  {
   "cell_type": "markdown",
   "source": [
    "#### 2.2.4 특징\n",
    "- 이진 탐색은 입력이 정렬된 리스트에 대해서만 적용 가능\n",
    "- 데이터의 삽입/삭제 연산을 수행하면 데이터의 이동이 발생 (삽입/삭제가 빈번하다면 부적합)\n"
   ],
   "metadata": {
    "collapsed": false,
    "pycharm": {
     "name": "#%% md\n"
    }
   }
  }
 ],
 "metadata": {
  "kernelspec": {
   "display_name": "Python 3",
   "language": "python",
   "name": "python3"
  },
  "language_info": {
   "codemirror_mode": {
    "name": "ipython",
    "version": 2
   },
   "file_extension": ".py",
   "mimetype": "text/x-python",
   "name": "python",
   "nbconvert_exporter": "python",
   "pygments_lexer": "ipython2",
   "version": "2.7.6"
  },
  "pycharm": {
   "stem_cell": {
    "cell_type": "raw",
    "source": [],
    "metadata": {
     "collapsed": false
    }
   }
  }
 },
 "nbformat": 4,
 "nbformat_minor": 0
}