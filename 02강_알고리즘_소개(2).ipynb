{
 "cells": [
  {
   "cell_type": "code",
   "execution_count": null,
   "metadata": {
    "collapsed": true
   },
   "outputs": [],
   "source": [
    "#-*- coding : utf-8 -*-"
   ]
  },
  {
   "cell_type": "markdown",
   "source": [
    "# 알고리즘 Algorithms\n",
    "---\n",
    "## 01강 알고리즘 소개(1)\n",
    "### 1.1 알고리즘의 개념\n",
    "### 1.2 기본 자료구조\n",
    "### 1.3 알고리즘의 설계\n",
    "### 1.4 알고리즘의 분석\n",
    "### 1.5 점근성능\n",
    "### 1.6 순환 알고리즘의 성능\n",
    "---\n",
    "\n",
    "### 1.3 알고리즘의 설계\n",
    "\n",
    "### 1.4 알고리즘의 분석\n",
    "\n",
    "#### 1.4.1 정확성 분석\n",
    "#### 1.4.2 효율성 분석\n"
   ],
   "metadata": {
    "collapsed": false
   }
  },
  {
   "cell_type": "markdown",
   "source": [
    "### 1.5 점근성능\n",
    "1.5.1 점근성능의 개념\n",
    "1.5.2 저근성능의 표기법\n",
    "1.5.3 효율적인 알고리즘의 중요성"
   ],
   "metadata": {
    "collapsed": false
   }
  },
  {
   "cell_type": "markdown",
   "source": [
    "### 1.6 순환 알고리즘의 성능"
   ],
   "metadata": {
    "collapsed": false
   }
  },
  {
   "cell_type": "markdown",
   "source": [
    "### 요약"
   ],
   "metadata": {
    "collapsed": false
   }
  }
 ],
 "metadata": {
  "kernelspec": {
   "display_name": "Python 3",
   "language": "python",
   "name": "python3"
  },
  "language_info": {
   "codemirror_mode": {
    "name": "ipython",
    "version": 2
   },
   "file_extension": ".py",
   "mimetype": "text/x-python",
   "name": "python",
   "nbconvert_exporter": "python",
   "pygments_lexer": "ipython2",
   "version": "2.7.6"
  },
  "pycharm": {
   "stem_cell": {
    "cell_type": "raw",
    "source": [],
    "metadata": {
     "collapsed": false
    }
   }
  }
 },
 "nbformat": 4,
 "nbformat_minor": 0
}